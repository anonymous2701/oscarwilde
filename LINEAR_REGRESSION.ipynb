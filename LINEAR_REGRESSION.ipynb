{
  "cells": [
    {
      "cell_type": "markdown",
      "metadata": {
        "id": "view-in-github",
        "colab_type": "text"
      },
      "source": [
        "<a href=\"https://colab.research.google.com/github/anonymous2701/oscarwilde/blob/main/LINEAR_REGRESSION.ipynb\" target=\"_parent\"><img src=\"https://colab.research.google.com/assets/colab-badge.svg\" alt=\"Open In Colab\"/></a>"
      ]
    },
    {
      "cell_type": "code",
      "execution_count": null,
      "id": "fa82ff04",
      "metadata": {
        "id": "fa82ff04"
      },
      "outputs": [],
      "source": [
        "# import the necessary libraries\n",
        "import pandas as pd\n",
        "import numpy as np\n",
        "from sklearn.linear_model import LinearRegression\n",
        "from sklearn.metrics import r2_score"
      ]
    },
    {
      "cell_type": "code",
      "execution_count": null,
      "id": "15bf2782",
      "metadata": {
        "id": "15bf2782"
      },
      "outputs": [],
      "source": [
        "# load the data from the csv file\n",
        "df = pd.read_csv('Use Case _Transformer.csv')"
      ]
    },
    {
      "cell_type": "code",
      "execution_count": null,
      "id": "8f5c3ff1",
      "metadata": {
        "id": "8f5c3ff1"
      },
      "outputs": [],
      "source": [
        "# Split the data into input and output variables\n",
        "X = df.iloc[:, :-2].values # exclude the last 2 columns\n",
        "y = df[\"Health index\"].values # select only the \"health_index\" column as output variable"
      ]
    },
    {
      "cell_type": "code",
      "execution_count": null,
      "id": "ae8377af",
      "metadata": {
        "id": "ae8377af"
      },
      "outputs": [],
      "source": [
        "# split the dataset into training and testing sets\n",
        "from sklearn.model_selection import train_test_split\n",
        "X_train, X_test, Y_train, Y_test = train_test_split(X, Y, test_size=0.2, random_state=0)"
      ]
    },
    {
      "cell_type": "code",
      "execution_count": null,
      "id": "94b2a02e",
      "metadata": {
        "id": "94b2a02e"
      },
      "outputs": [],
      "source": [
        "# create an instance of the linear regression model\n",
        "regressor = LinearRegression()"
      ]
    },
    {
      "cell_type": "code",
      "execution_count": null,
      "id": "9caf2953",
      "metadata": {
        "id": "9caf2953",
        "outputId": "d5f00beb-2f51-4694-ed60-1718582e14f7"
      },
      "outputs": [
        {
          "data": {
            "text/plain": [
              "LinearRegression()"
            ]
          },
          "execution_count": 36,
          "metadata": {},
          "output_type": "execute_result"
        }
      ],
      "source": [
        "# train the model on the training set\n",
        "regressor.fit(X_train, Y_train)"
      ]
    },
    {
      "cell_type": "code",
      "execution_count": null,
      "id": "7f6d1d09",
      "metadata": {
        "id": "7f6d1d09"
      },
      "outputs": [],
      "source": [
        "# make predictions on the testing set\n",
        "Y_pred = regressor.predict(X_test)"
      ]
    },
    {
      "cell_type": "code",
      "execution_count": null,
      "id": "0a561ee8",
      "metadata": {
        "id": "0a561ee8",
        "outputId": "92e944a9-f803-439c-c0d4-73ac06afee6f"
      },
      "outputs": [
        {
          "name": "stdout",
          "output_type": "stream",
          "text": [
            "R-squared:  0.46546099504459504\n"
          ]
        }
      ],
      "source": [
        "# evaluate the performance of the model using R-squared\n",
        "r_squared = r2_score(Y_test, Y_pred)\n",
        "print(\"R-squared: \", r_squared)"
      ]
    },
    {
      "cell_type": "code",
      "execution_count": null,
      "id": "2ae8d6c7",
      "metadata": {
        "id": "2ae8d6c7"
      },
      "outputs": [],
      "source": []
    },
    {
      "cell_type": "code",
      "execution_count": null,
      "id": "179ca279",
      "metadata": {
        "id": "179ca279"
      },
      "outputs": [],
      "source": []
    }
  ],
  "metadata": {
    "kernelspec": {
      "display_name": "Python 3 (ipykernel)",
      "language": "python",
      "name": "python3"
    },
    "language_info": {
      "codemirror_mode": {
        "name": "ipython",
        "version": 3
      },
      "file_extension": ".py",
      "mimetype": "text/x-python",
      "name": "python",
      "nbconvert_exporter": "python",
      "pygments_lexer": "ipython3",
      "version": "3.9.13"
    },
    "colab": {
      "provenance": [],
      "include_colab_link": true
    }
  },
  "nbformat": 4,
  "nbformat_minor": 5
}