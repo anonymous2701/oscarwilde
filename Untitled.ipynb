{
  "cells": [
    {
      "cell_type": "markdown",
      "metadata": {
        "id": "view-in-github",
        "colab_type": "text"
      },
      "source": [
        "<a href=\"https://colab.research.google.com/github/anonymous2701/oscarwilde/blob/main/Untitled.ipynb\" target=\"_parent\"><img src=\"https://colab.research.google.com/assets/colab-badge.svg\" alt=\"Open In Colab\"/></a>"
      ]
    },
    {
      "cell_type": "code",
      "source": [
        "#random forest regression"
      ],
      "metadata": {
        "id": "KehkHDJM3u1q"
      },
      "id": "KehkHDJM3u1q",
      "execution_count": null,
      "outputs": []
    },
    {
      "cell_type": "code",
      "execution_count": null,
      "id": "064d0c96",
      "metadata": {
        "id": "064d0c96"
      },
      "outputs": [],
      "source": [
        "import pandas as pd\n",
        "from sklearn.ensemble import RandomForestRegressor\n",
        "from sklearn.model_selection import train_test_split\n",
        "from sklearn.metrics import mean_squared_error\n"
      ]
    },
    {
      "cell_type": "code",
      "execution_count": null,
      "id": "4722f596",
      "metadata": {
        "id": "4722f596"
      },
      "outputs": [],
      "source": [
        "# Load the data\n",
        "df = pd.read_csv('Use Case _Transformer.csv')"
      ]
    },
    {
      "cell_type": "code",
      "execution_count": null,
      "id": "30540fb1",
      "metadata": {
        "id": "30540fb1"
      },
      "outputs": [],
      "source": [
        "# Split the data into input and output variables\n",
        "X = df.iloc[:, :-2]\n",
        "y = df.iloc[:, -1]"
      ]
    },
    {
      "cell_type": "code",
      "execution_count": null,
      "id": "55318fd1",
      "metadata": {
        "id": "55318fd1"
      },
      "outputs": [],
      "source": [
        "# Split the data into training and testing sets\n",
        "X_train, X_test, y_train, y_test = train_test_split(X, y, test_size=0.2, random_state=42)"
      ]
    },
    {
      "cell_type": "code",
      "execution_count": null,
      "id": "a0cea591",
      "metadata": {
        "id": "a0cea591"
      },
      "outputs": [],
      "source": [
        "# Create the random forest regressor\n",
        "rf = RandomForestRegressor(n_estimators=100, random_state=42)"
      ]
    },
    {
      "cell_type": "code",
      "execution_count": null,
      "id": "601b41c4",
      "metadata": {
        "id": "601b41c4",
        "outputId": "3b0ae9b4-2360-4b0c-f58e-fb0383aae2c7"
      },
      "outputs": [
        {
          "data": {
            "text/plain": [
              "RandomForestRegressor(random_state=42)"
            ]
          },
          "execution_count": 27,
          "metadata": {},
          "output_type": "execute_result"
        }
      ],
      "source": [
        "# Train the model\n",
        "rf.fit(X_train, y_train)"
      ]
    },
    {
      "cell_type": "code",
      "execution_count": null,
      "id": "515ba706",
      "metadata": {
        "id": "515ba706"
      },
      "outputs": [],
      "source": [
        "# Make predictions on the testing data\n",
        "y_pred = rf.predict(X_test)"
      ]
    },
    {
      "cell_type": "code",
      "execution_count": null,
      "id": "8dabefbe",
      "metadata": {
        "id": "8dabefbe",
        "outputId": "38949dbb-81a4-4a7c-f7fc-e89419da0e5f"
      },
      "outputs": [
        {
          "name": "stdout",
          "output_type": "stream",
          "text": [
            "Mean Squared Error: 48.283568904255304\n"
          ]
        }
      ],
      "source": [
        "# Calculate the mean squared error\n",
        "mse = mean_squared_error(y_test, y_pred)\n",
        "print(\"Mean Squared Error:\", mse)"
      ]
    },
    {
      "cell_type": "code",
      "execution_count": null,
      "id": "a15b0768",
      "metadata": {
        "id": "a15b0768"
      },
      "outputs": [],
      "source": []
    },
    {
      "cell_type": "code",
      "execution_count": null,
      "id": "c9bd6698",
      "metadata": {
        "id": "c9bd6698"
      },
      "outputs": [],
      "source": []
    }
  ],
  "metadata": {
    "kernelspec": {
      "display_name": "Python 3 (ipykernel)",
      "language": "python",
      "name": "python3"
    },
    "language_info": {
      "codemirror_mode": {
        "name": "ipython",
        "version": 3
      },
      "file_extension": ".py",
      "mimetype": "text/x-python",
      "name": "python",
      "nbconvert_exporter": "python",
      "pygments_lexer": "ipython3",
      "version": "3.9.13"
    },
    "colab": {
      "provenance": [],
      "include_colab_link": true
    }
  },
  "nbformat": 4,
  "nbformat_minor": 5
}